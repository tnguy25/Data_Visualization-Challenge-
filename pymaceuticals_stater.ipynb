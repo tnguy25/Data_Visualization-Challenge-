{
 "cells": [
  {
   "cell_type": "markdown",
   "metadata": {},
   "source": [
    "# Pymaceuticals Inc.\n",
    "---\n",
    "\n",
    "### Analysis\n",
    "\n",
    "- Add your analysis here.\n",
    " "
   ]
  },
  {
   "cell_type": "code",
   "execution_count": 4,
   "metadata": {},
   "outputs": [
    {
     "data": {
      "text/html": [
       "<div>\n",
       "<style scoped>\n",
       "    .dataframe tbody tr th:only-of-type {\n",
       "        vertical-align: middle;\n",
       "    }\n",
       "\n",
       "    .dataframe tbody tr th {\n",
       "        vertical-align: top;\n",
       "    }\n",
       "\n",
       "    .dataframe thead th {\n",
       "        text-align: right;\n",
       "    }\n",
       "</style>\n",
       "<table border=\"1\" class=\"dataframe\">\n",
       "  <thead>\n",
       "    <tr style=\"text-align: right;\">\n",
       "      <th></th>\n",
       "      <th>Mouse ID</th>\n",
       "      <th>Timepoint</th>\n",
       "      <th>Tumor Volume (mm3)</th>\n",
       "      <th>Metastatic Sites</th>\n",
       "      <th>Drug Regimen</th>\n",
       "      <th>Sex</th>\n",
       "      <th>Age_months</th>\n",
       "      <th>Weight (g)</th>\n",
       "    </tr>\n",
       "  </thead>\n",
       "  <tbody>\n",
       "    <tr>\n",
       "      <td>0</td>\n",
       "      <td>b128</td>\n",
       "      <td>0</td>\n",
       "      <td>45.0</td>\n",
       "      <td>0</td>\n",
       "      <td>Capomulin</td>\n",
       "      <td>Female</td>\n",
       "      <td>9</td>\n",
       "      <td>22</td>\n",
       "    </tr>\n",
       "    <tr>\n",
       "      <td>1</td>\n",
       "      <td>f932</td>\n",
       "      <td>0</td>\n",
       "      <td>45.0</td>\n",
       "      <td>0</td>\n",
       "      <td>Ketapril</td>\n",
       "      <td>Male</td>\n",
       "      <td>15</td>\n",
       "      <td>29</td>\n",
       "    </tr>\n",
       "    <tr>\n",
       "      <td>2</td>\n",
       "      <td>g107</td>\n",
       "      <td>0</td>\n",
       "      <td>45.0</td>\n",
       "      <td>0</td>\n",
       "      <td>Ketapril</td>\n",
       "      <td>Female</td>\n",
       "      <td>2</td>\n",
       "      <td>29</td>\n",
       "    </tr>\n",
       "    <tr>\n",
       "      <td>3</td>\n",
       "      <td>a457</td>\n",
       "      <td>0</td>\n",
       "      <td>45.0</td>\n",
       "      <td>0</td>\n",
       "      <td>Ketapril</td>\n",
       "      <td>Female</td>\n",
       "      <td>11</td>\n",
       "      <td>30</td>\n",
       "    </tr>\n",
       "    <tr>\n",
       "      <td>4</td>\n",
       "      <td>c819</td>\n",
       "      <td>0</td>\n",
       "      <td>45.0</td>\n",
       "      <td>0</td>\n",
       "      <td>Ketapril</td>\n",
       "      <td>Male</td>\n",
       "      <td>21</td>\n",
       "      <td>25</td>\n",
       "    </tr>\n",
       "  </tbody>\n",
       "</table>\n",
       "</div>"
      ],
      "text/plain": [
       "  Mouse ID  Timepoint  Tumor Volume (mm3)  Metastatic Sites Drug Regimen  \\\n",
       "0     b128          0                45.0                 0    Capomulin   \n",
       "1     f932          0                45.0                 0     Ketapril   \n",
       "2     g107          0                45.0                 0     Ketapril   \n",
       "3     a457          0                45.0                 0     Ketapril   \n",
       "4     c819          0                45.0                 0     Ketapril   \n",
       "\n",
       "      Sex  Age_months  Weight (g)  \n",
       "0  Female           9          22  \n",
       "1    Male          15          29  \n",
       "2  Female           2          29  \n",
       "3  Female          11          30  \n",
       "4    Male          21          25  "
      ]
     },
     "execution_count": 4,
     "metadata": {},
     "output_type": "execute_result"
    }
   ],
   "source": [
    "# Dependencies and Setup\n",
    "import matplotlib.pyplot as plt\n",
    "import pandas as pd\n",
    "import scipy.stats as st\n",
    "import numpy as np\n",
    "\n",
    "# Study data files\n",
    "mouse_metadata_path = (\"C://Users/Owner/data/Mouse_metadata.csv\")\n",
    "study_results_path = (\"C://Users/Owner/data/Study_results.csv\")\n",
    "\n",
    "# Read the mouse data and the study results\n",
    "mouse_metadata = pd.read_csv(mouse_metadata_path)\n",
    "study_results = pd.read_csv(study_results_path)\n",
    "\n",
    "# Combine the data into a single DataFrame\n",
    "all_data = pd.merge(study_results, mouse_metadata, how=\"left\", on =\"Mouse ID\")\n",
    "\n",
    "# Display the data table for preview\n",
    "all_data.head()\n"
   ]
  },
  {
   "cell_type": "code",
   "execution_count": 5,
   "metadata": {},
   "outputs": [
    {
     "name": "stdout",
     "output_type": "stream",
     "text": [
      "249\n"
     ]
    }
   ],
   "source": [
    "# Checking the number of mice.\n",
    "mice_data = all_data[\"Mouse ID\"].unique()\n",
    "number_of_mice = len(mice_data)\n",
    "print(number_of_mice)\n"
   ]
  },
  {
   "cell_type": "code",
   "execution_count": 7,
   "metadata": {},
   "outputs": [
    {
     "name": "stdout",
     "output_type": "stream",
     "text": [
      "['g989']\n"
     ]
    }
   ],
   "source": [
    "# Our data should be uniquely identified by Mouse ID and Timepoint\n",
    "# Get the duplicate mice by ID number that shows up for Mouse ID and Timepoint. \n",
    "mice_duplicate = all_data[all_data[[\"Mouse ID\", \"Timepoint\"]].duplicated() == True]\n",
    "mice_duplicate_id = mice_duplicate[\"Mouse ID\"].unique()\n",
    "print(mice_duplicate_id)\n"
   ]
  },
  {
   "cell_type": "code",
   "execution_count": 8,
   "metadata": {},
   "outputs": [
    {
     "name": "stdout",
     "output_type": "stream",
     "text": [
      "     Mouse ID  Timepoint  Tumor Volume (mm3)  Metastatic Sites Drug Regimen  \\\n",
      "107      g989          0           45.000000                 0     Propriva   \n",
      "137      g989          0           45.000000                 0     Propriva   \n",
      "329      g989          5           48.786801                 0     Propriva   \n",
      "360      g989          5           47.570392                 0     Propriva   \n",
      "620      g989         10           51.745156                 0     Propriva   \n",
      "681      g989         10           49.880528                 0     Propriva   \n",
      "815      g989         15           51.325852                 1     Propriva   \n",
      "869      g989         15           53.442020                 0     Propriva   \n",
      "950      g989         20           55.326122                 1     Propriva   \n",
      "1111     g989         20           54.657650                 1     Propriva   \n",
      "1195     g989         25           56.045564                 1     Propriva   \n",
      "1380     g989         30           59.082294                 1     Propriva   \n",
      "1592     g989         35           62.570880                 2     Propriva   \n",
      "\n",
      "         Sex  Age_months  Weight (g)  \n",
      "107   Female          21          26  \n",
      "137   Female          21          26  \n",
      "329   Female          21          26  \n",
      "360   Female          21          26  \n",
      "620   Female          21          26  \n",
      "681   Female          21          26  \n",
      "815   Female          21          26  \n",
      "869   Female          21          26  \n",
      "950   Female          21          26  \n",
      "1111  Female          21          26  \n",
      "1195  Female          21          26  \n",
      "1380  Female          21          26  \n",
      "1592  Female          21          26  \n"
     ]
    }
   ],
   "source": [
    "# Optional: Get all the data for the duplicate mouse ID. \n",
    "mice_duplicate_data = all_data.loc[all_data[\"Mouse ID\"] == mice_duplicate_id[0]]\n",
    "print(mice_duplicate_data)\n"
   ]
  },
  {
   "cell_type": "code",
   "execution_count": 9,
   "metadata": {},
   "outputs": [
    {
     "name": "stdout",
     "output_type": "stream",
     "text": [
      "  Mouse ID  Timepoint  Tumor Volume (mm3)  Metastatic Sites Drug Regimen  \\\n",
      "0     b128          0                45.0                 0    Capomulin   \n",
      "1     f932          0                45.0                 0     Ketapril   \n",
      "2     g107          0                45.0                 0     Ketapril   \n",
      "3     a457          0                45.0                 0     Ketapril   \n",
      "4     c819          0                45.0                 0     Ketapril   \n",
      "\n",
      "      Sex  Age_months  Weight (g)  \n",
      "0  Female           9          22  \n",
      "1    Male          15          29  \n",
      "2  Female           2          29  \n",
      "3  Female          11          30  \n",
      "4    Male          21          25  \n"
     ]
    }
   ],
   "source": [
    "# Create a clean DataFrame by dropping the duplicate mouse by its ID.\n",
    "clean_all_data= all_data.drop_duplicates(subset=[\"Mouse ID\", \"Timepoint\"])\n",
    "print(clean_all_data.head())\n"
   ]
  },
  {
   "cell_type": "code",
   "execution_count": 10,
   "metadata": {},
   "outputs": [
    {
     "name": "stdout",
     "output_type": "stream",
     "text": [
      "249\n"
     ]
    }
   ],
   "source": [
    "# Checking the number of mice in the clean DataFrame.\n",
    "clean_mice_data = clean_all_data[\"Mouse ID\"].value_counts()\n",
    "clean_number_of_mice = len(clean_mice_data)\n",
    "print(clean_number_of_mice)\n"
   ]
  },
  {
   "cell_type": "markdown",
   "metadata": {},
   "source": [
    "## Summary Statistics"
   ]
  },
  {
   "cell_type": "code",
   "execution_count": 12,
   "metadata": {},
   "outputs": [
    {
     "name": "stdout",
     "output_type": "stream",
     "text": [
      "              Mean Tumor Volume  Median Tumor Volume  Tumor Volume Variance  \\\n",
      "Drug Regimen                                                                  \n",
      "Capomulin             40.675741            41.557809              24.947764   \n",
      "Ceftamin              52.591172            51.776157              39.290177   \n",
      "Infubinol             52.884795            51.820584              43.128684   \n",
      "Ketapril              55.235638            53.698743              68.553577   \n",
      "Naftisol              54.331565            52.509285              66.173479   \n",
      "Placebo               54.033581            52.288934              61.168083   \n",
      "Propriva              52.393463            50.909965              43.138803   \n",
      "Ramicane              40.216745            40.673236              23.486704   \n",
      "Stelasyn              54.233149            52.431737              59.450562   \n",
      "Zoniferol             53.236507            51.818479              48.533355   \n",
      "\n",
      "              Tumor Volume Std. Dev.  Tumor Volume Std. Err.  \n",
      "Drug Regimen                                                  \n",
      "Capomulin                   4.994774                0.329346  \n",
      "Ceftamin                    6.268188                0.469821  \n",
      "Infubinol                   6.567243                0.492236  \n",
      "Ketapril                    8.279709                0.603860  \n",
      "Naftisol                    8.134708                0.596466  \n",
      "Placebo                     7.821003                0.581331  \n",
      "Propriva                    6.568014                0.525862  \n",
      "Ramicane                    4.846308                0.320955  \n",
      "Stelasyn                    7.710419                0.573111  \n",
      "Zoniferol                   6.966589                0.516398  \n"
     ]
    }
   ],
   "source": [
    "# Generate a summary statistics table of mean, median, variance, standard deviation, and SEM of the tumor volume for each regimen\n",
    "# Use groupby and summary statistical methods to calculate the following properties of each drug regimen: \n",
    "# mean, median, variance, standard deviation, and SEM of the tumor volume. \n",
    "drug_reg_data = clean_all_data.set_index([\"Drug Regimen\"])\n",
    "group_drug_data = drug_reg_data.groupby(\"Drug Regimen\")\n",
    "drug_reg_mean = clean_all_data.groupby('Drug Regimen').mean()[\"Tumor Volume (mm3)\"]\n",
    "drug_reg_median = clean_all_data.groupby('Drug Regimen').median()[\"Tumor Volume (mm3)\"]\n",
    "drug_reg_var = clean_all_data.groupby('Drug Regimen').var()[\"Tumor Volume (mm3)\"]\n",
    "drug_reg_std = clean_all_data.groupby('Drug Regimen').std()[\"Tumor Volume (mm3)\"]\n",
    "drug_reg_sem = clean_all_data.groupby('Drug Regimen').sem()[\"Tumor Volume (mm3)\"]\n",
    "\n",
    "\n",
    "# Assemble the resulting series into a single summary DataFrame.\n",
    "drug_reg_sum_df  = pd.DataFrame({\"Mean Tumor Volume\":  drug_reg_mean,\n",
    "                                 \"Median Tumor Volume\":  drug_reg_median,\n",
    "                                 \"Tumor Volume Variance\":  drug_reg_var,\n",
    "                                 \"Tumor Volume Std. Dev.\":  drug_reg_std,\n",
    "                                 \"Tumor Volume Std. Err.\":  drug_reg_sem})\n",
    "print(drug_reg_sum_df)\n",
    "      \n"
   ]
  },
  {
   "cell_type": "code",
   "execution_count": 13,
   "metadata": {},
   "outputs": [
    {
     "name": "stdout",
     "output_type": "stream",
     "text": [
      "             Tumor Volume (mm3)                                          \n",
      "                           mean     median        var       std       sem\n",
      "Drug Regimen                                                             \n",
      "Capomulin             40.675741  41.557809  24.947764  4.994774  0.329346\n",
      "Ceftamin              52.591172  51.776157  39.290177  6.268188  0.469821\n",
      "Infubinol             52.884795  51.820584  43.128684  6.567243  0.492236\n",
      "Ketapril              55.235638  53.698743  68.553577  8.279709  0.603860\n",
      "Naftisol              54.331565  52.509285  66.173479  8.134708  0.596466\n",
      "Placebo               54.033581  52.288934  61.168083  7.821003  0.581331\n",
      "Propriva              52.393463  50.909965  43.138803  6.568014  0.525862\n",
      "Ramicane              40.216745  40.673236  23.486704  4.846308  0.320955\n",
      "Stelasyn              54.233149  52.431737  59.450562  7.710419  0.573111\n",
      "Zoniferol             53.236507  51.818479  48.533355  6.966589  0.516398\n"
     ]
    }
   ],
   "source": [
    "# A more advanced method to generate a summary statistics table of mean, median, variance, standard deviation,\n",
    "# and SEM of the tumor volume for each regimen (only one method is required in the solution)\n",
    "\n",
    "# Using the aggregation method, produce the same summary statistics in a single line\n",
    "agg_drug_reg_sum_df = drug_reg_data.groupby([\"Drug Regimen\"])[[\"Tumor Volume (mm3)\"]].agg([\"mean\",\"median\",\"var\",\"std\",\"sem\"])\n",
    "print(agg_drug_reg_sum_df)"
   ]
  },
  {
   "cell_type": "markdown",
   "metadata": {},
   "source": [
    "## Bar and Pie Charts"
   ]
  },
  {
   "cell_type": "code",
   "execution_count": 14,
   "metadata": {},
   "outputs": [
    {
     "name": "stdout",
     "output_type": "stream",
     "text": [
      "Capomulin    230\n",
      "Ramicane     228\n",
      "Ketapril     188\n",
      "Naftisol     186\n",
      "Zoniferol    182\n",
      "Stelasyn     181\n",
      "Placebo      181\n",
      "Ceftamin     178\n",
      "Infubinol    178\n",
      "Propriva     156\n",
      "Name: Drug Regimen, dtype: int64\n"
     ]
    },
    {
     "data": {
      "image/png": "[encoded data removed]",
      "text/plain": [
       "<Figure size 1080x720 with 1 Axes>"
      ]
     },
     "metadata": {
      "needs_background": "light"
     },
     "output_type": "display_data"
    }
   ],
   "source": [
    "# Generate a bar plot showing the total number of rows (Mouse ID/Timepoints) for each drug regimen using Pandas.\n",
    "mice_drugs = clean_all_data[[\"Drug Regimen\",\"Timepoint\"]]\n",
    "mice_per_drug = mice_drugs[\"Drug Regimen\"].value_counts()\n",
    "print(mice_per_drug)\n",
    "#Using DataFrame.plot() in order to create a bar chart of the data\n",
    "plt.show()\n",
    "plot_pandas = mice_per_drug.plot.bar(figsize=(15,10), color='b',fontsize = 15) \n",
    "plt.xlabel(\"Drug Regimen\",fontsize = 18)\n",
    "plt.ylabel(\"Number of Mice Tested\",fontsize = 18)\n",
    "plt.title(\"Number of Mice per Treatment\",fontsize = 25)\n",
    "plt.xticks(rotation=90)\n",
    "\n",
    "plt.tight_layout()\n",
    "plt.show()"
   ]
  },
  {
   "cell_type": "code",
   "execution_count": 15,
   "metadata": {},
   "outputs": [
    {
     "data": {
      "image/png": "[encoded data removed]",
      "text/plain": [
       "<Figure size 432x288 with 1 Axes>"
      ]
     },
     "metadata": {
      "needs_background": "light"
     },
     "output_type": "display_data"
    }
   ],
   "source": [
    "# Generate a bar plot showing the total number of rows (Mouse ID/Timepoints) for each drug regimen using pyplot.\n",
    "drugs = mice_per_drug.index.values\n",
    "count = mice_per_drug.values\n",
    "#Display Bar chart based on the number of mine each drug regimen\n",
    "plt.bar(drugs, count,color=\"b\", align=\"center\")\n",
    "plt.xlabel(\"Drug Regimen\")\n",
    "plt.ylabel(\"Number of Mice Tested\")\n",
    "plt.xticks(rotation=90)\n",
    "plt.show()\n"
   ]
  },
  {
   "cell_type": "code",
   "execution_count": 16,
   "metadata": {},
   "outputs": [
    {
     "name": "stdout",
     "output_type": "stream",
     "text": [
      "        Total  Percentage of Sex\n",
      "Sex                             \n",
      "Female    124          49.799197\n",
      "Male      125          50.200803\n"
     ]
    },
    {
     "data": {
      "image/png": "[encoded data removed]",
      "text/plain": [
       "<Figure size 432x432 with 1 Axes>"
      ]
     },
     "metadata": {},
     "output_type": "display_data"
    }
   ],
   "source": [
    "\n",
    "# Generate a pie plot showing the distribution of female versus male mice using Pandas\n",
    "combine_gender = all_data.groupby([\"Mouse ID\",\"Sex\"])\n",
    "combine_gender_df = pd.DataFrame(combine_gender.size())\n",
    "#Calculate total of gender.\n",
    "female_vs_male =pd.DataFrame(combine_gender_df.groupby([\"Sex\"]).count())\n",
    "female_vs_male.columns = [\"Total\"]\n",
    "#Calculate % of each gender. \n",
    "female_vs_male[\"Percentage of Sex\"] = (100*(female_vs_male[\"Total\"]/female_vs_male[\"Total\"].sum()))\n",
    "print(female_vs_male)\n",
    "#Create the pie chart based upon the values \n",
    "colors = [\"C1\",\"C0\"]\n",
    "plot_pandas = female_vs_male.plot.pie(y=\"Total\",figsize=(6,6), colors = colors, autopct=\"%1.1f%%\")\n",
    "plt.ylabel('Sex',fontsize = 15)\n",
    "#Set equal axis\n",
    "plt.axis(\"equal\",fontsize = 15)\n",
    "plt.show()"
   ]
  },
  {
   "cell_type": "code",
   "execution_count": 18,
   "metadata": {},
   "outputs": [
    {
     "data": {
      "image/png": "[encoded data removed]",
      "text/plain": [
       "<Figure size 432x432 with 1 Axes>"
      ]
     },
     "metadata": {},
     "output_type": "display_data"
    }
   ],
   "source": [
    "# Generate a pie plot showing the distribution of female versus male mice using pyplot\n",
    "labels = [\"Female\", \"Male\"]\n",
    "values = [49.799197, 50.200803]\n",
    "\n",
    "#Create the pie chart based upon the values \n",
    "fig1, ax1 = plt.subplots(figsize=(6, 6))\n",
    "plt.pie(values,labels=labels, colors=colors, autopct=\"%1.1f%%\")\n",
    "plt.ylabel('Sex',fontsize = 15)\n",
    "#Set equal axis\n",
    "plt.axis(\"equal\",fontsize = 15)\n",
    "plt.show()"
   ]
  },
  {
   "cell_type": "markdown",
   "metadata": {},
   "source": [
    "## Quartiles, Outliers and Boxplots"
   ]
  },
  {
   "cell_type": "code",
   "execution_count": 115,
   "metadata": {
    "scrolled": true
   },
   "outputs": [
    {
     "name": "stdout",
     "output_type": "stream",
     "text": [
      "     Mouse ID  Timepoint  Tumor Volume (mm3)  Metastatic Sites Drug Regimen  \\\n",
      "0        b128          0           45.000000                 0    Capomulin   \n",
      "221      q483          0           45.000000                 0     Ceftamin   \n",
      "220      o287          0           45.000000                 0     Ceftamin   \n",
      "219      b487          0           45.000000                 0     Ceftamin   \n",
      "218      p438          0           45.000000                 0     Ceftamin   \n",
      "...       ...        ...                 ...               ...          ...   \n",
      "1802     e476         45           62.435404                 1    Infubinol   \n",
      "1804     a203         45           67.973419                 2    Infubinol   \n",
      "1806     f345         45           60.918767                 1    Infubinol   \n",
      "1810     l471         45           67.748662                 1     Ceftamin   \n",
      "1890     p438         45           61.433892                 1     Ceftamin   \n",
      "\n",
      "         Sex  Age_months  Weight (g)  \n",
      "0     Female           9          22  \n",
      "221     Male           6          26  \n",
      "220     Male           2          28  \n",
      "219   Female           6          28  \n",
      "218   Female          11          26  \n",
      "...      ...         ...         ...  \n",
      "1802    Male          23          26  \n",
      "1804  Female          20          23  \n",
      "1806    Male          23          26  \n",
      "1810  Female           7          28  \n",
      "1890  Female          11          26  \n",
      "\n",
      "[814 rows x 8 columns]\n",
      "    Mouse ID  Timepoint  Tumor Volume (mm3)_x  Metastatic Sites_x  \\\n",
      "0       b128          0             45.000000                   0   \n",
      "1       q483          0             45.000000                   0   \n",
      "2       o287          0             45.000000                   0   \n",
      "3       b487          0             45.000000                   0   \n",
      "4       p438          0             45.000000                   0   \n",
      "..       ...        ...                   ...                 ...   \n",
      "809     e476         45             62.435404                   1   \n",
      "810     a203         45             67.973419                   2   \n",
      "811     f345         45             60.918767                   1   \n",
      "812     l471         45             67.748662                   1   \n",
      "813     p438         45             61.433892                   1   \n",
      "\n",
      "    Drug Regimen_x   Sex_x  Age_months_x  Weight (g)_x  Tumor Volume (mm3)_y  \\\n",
      "0        Capomulin  Female             9            22             45.000000   \n",
      "1         Ceftamin    Male             6            26             45.000000   \n",
      "2         Ceftamin    Male             2            28             45.000000   \n",
      "3         Ceftamin  Female             6            28             45.000000   \n",
      "4         Ceftamin  Female            11            26             45.000000   \n",
      "..             ...     ...           ...           ...                   ...   \n",
      "809      Infubinol    Male            23            26             62.435404   \n",
      "810      Infubinol  Female            20            23             67.973419   \n",
      "811      Infubinol    Male            23            26             60.918767   \n",
      "812       Ceftamin  Female             7            28             67.748662   \n",
      "813       Ceftamin  Female            11            26             61.433892   \n",
      "\n",
      "     Metastatic Sites_y Drug Regimen_y   Sex_y  Age_months_y  Weight (g)_y  \n",
      "0                     0      Capomulin  Female             9            22  \n",
      "1                     0       Ceftamin    Male             6            26  \n",
      "2                     0       Ceftamin    Male             2            28  \n",
      "3                     0       Ceftamin  Female             6            28  \n",
      "4                     0       Ceftamin  Female            11            26  \n",
      "..                  ...            ...     ...           ...           ...  \n",
      "809                   1      Infubinol    Male            23            26  \n",
      "810                   2      Infubinol  Female            20            23  \n",
      "811                   1      Infubinol    Male            23            26  \n",
      "812                   1       Ceftamin  Female             7            28  \n",
      "813                   1       Ceftamin  Female            11            26  \n",
      "\n",
      "[814 rows x 14 columns]\n"
     ]
    },
    {
     "data": {
      "text/html": [
       "<div>\n",
       "<style scoped>\n",
       "    .dataframe tbody tr th:only-of-type {\n",
       "        vertical-align: middle;\n",
       "    }\n",
       "\n",
       "    .dataframe tbody tr th {\n",
       "        vertical-align: top;\n",
       "    }\n",
       "\n",
       "    .dataframe thead th {\n",
       "        text-align: right;\n",
       "    }\n",
       "</style>\n",
       "<table border=\"1\" class=\"dataframe\">\n",
       "  <thead>\n",
       "    <tr style=\"text-align: right;\">\n",
       "      <th></th>\n",
       "      <th>Drug Regimen</th>\n",
       "      <th>Mouse ID</th>\n",
       "      <th>Timepoint</th>\n",
       "      <th>Tumor Volume (mm3)</th>\n",
       "    </tr>\n",
       "  </thead>\n",
       "  <tbody>\n",
       "    <tr>\n",
       "      <td>0</td>\n",
       "      <td>Capomulin</td>\n",
       "      <td>b128</td>\n",
       "      <td>0</td>\n",
       "      <td>45.000000</td>\n",
       "    </tr>\n",
       "    <tr>\n",
       "      <td>221</td>\n",
       "      <td>Ceftamin</td>\n",
       "      <td>q483</td>\n",
       "      <td>0</td>\n",
       "      <td>45.000000</td>\n",
       "    </tr>\n",
       "    <tr>\n",
       "      <td>220</td>\n",
       "      <td>Ceftamin</td>\n",
       "      <td>o287</td>\n",
       "      <td>0</td>\n",
       "      <td>45.000000</td>\n",
       "    </tr>\n",
       "    <tr>\n",
       "      <td>219</td>\n",
       "      <td>Ceftamin</td>\n",
       "      <td>b487</td>\n",
       "      <td>0</td>\n",
       "      <td>45.000000</td>\n",
       "    </tr>\n",
       "    <tr>\n",
       "      <td>218</td>\n",
       "      <td>Ceftamin</td>\n",
       "      <td>p438</td>\n",
       "      <td>0</td>\n",
       "      <td>45.000000</td>\n",
       "    </tr>\n",
       "    <tr>\n",
       "      <td>...</td>\n",
       "      <td>...</td>\n",
       "      <td>...</td>\n",
       "      <td>...</td>\n",
       "      <td>...</td>\n",
       "    </tr>\n",
       "    <tr>\n",
       "      <td>1802</td>\n",
       "      <td>Infubinol</td>\n",
       "      <td>e476</td>\n",
       "      <td>45</td>\n",
       "      <td>62.435404</td>\n",
       "    </tr>\n",
       "    <tr>\n",
       "      <td>1804</td>\n",
       "      <td>Infubinol</td>\n",
       "      <td>a203</td>\n",
       "      <td>45</td>\n",
       "      <td>67.973419</td>\n",
       "    </tr>\n",
       "    <tr>\n",
       "      <td>1806</td>\n",
       "      <td>Infubinol</td>\n",
       "      <td>f345</td>\n",
       "      <td>45</td>\n",
       "      <td>60.918767</td>\n",
       "    </tr>\n",
       "    <tr>\n",
       "      <td>1810</td>\n",
       "      <td>Ceftamin</td>\n",
       "      <td>l471</td>\n",
       "      <td>45</td>\n",
       "      <td>67.748662</td>\n",
       "    </tr>\n",
       "    <tr>\n",
       "      <td>1890</td>\n",
       "      <td>Ceftamin</td>\n",
       "      <td>p438</td>\n",
       "      <td>45</td>\n",
       "      <td>61.433892</td>\n",
       "    </tr>\n",
       "  </tbody>\n",
       "</table>\n",
       "<p>814 rows × 4 columns</p>\n",
       "</div>"
      ],
      "text/plain": [
       "     Drug Regimen Mouse ID  Timepoint  Tumor Volume (mm3)\n",
       "0       Capomulin     b128          0           45.000000\n",
       "221      Ceftamin     q483          0           45.000000\n",
       "220      Ceftamin     o287          0           45.000000\n",
       "219      Ceftamin     b487          0           45.000000\n",
       "218      Ceftamin     p438          0           45.000000\n",
       "...           ...      ...        ...                 ...\n",
       "1802    Infubinol     e476         45           62.435404\n",
       "1804    Infubinol     a203         45           67.973419\n",
       "1806    Infubinol     f345         45           60.918767\n",
       "1810     Ceftamin     l471         45           67.748662\n",
       "1890     Ceftamin     p438         45           61.433892\n",
       "\n",
       "[814 rows x 4 columns]"
      ]
     },
     "execution_count": 115,
     "metadata": {},
     "output_type": "execute_result"
    }
   ],
   "source": [
    "# Calculate the final tumor volume of each mouse across four of the treatment regimens:  \n",
    "# Capomulin, Ramicane, Infubinol, and Ceftamin\n",
    "treatment_regimens = all_data[all_data[\"Drug Regimen\"].isin([\"Capomulin\", \"Ramicane\", \"Infubinol\", \"Ceftamin\"])]\n",
    "# Start by getting the last (greatest) timepoint for each mouse\n",
    "treatment_regimens = treatment_regimens.sort_values([\"Timepoint\"], ascending=True)\n",
    "print(treatment_regimens)\n",
    "# Merge this group df with the original dataframe to get the tumor volume at the last timepoint\n",
    "both_dataframe = treatment_regimens.merge(all_data, on = (\"Mouse ID\", \"Timepoint\"), how = \"left\" )\n",
    "print(both_dataframe)\n",
    "# Tumor volume at last timepoint\n",
    "regimes_data_df= treatment_regimens[[\"Drug Regimen\", \"Mouse ID\", \"Timepoint\", \"Tumor Volume (mm3)\"]]\n",
    "regimes_data_df\n"
   ]
  },
  {
   "cell_type": "code",
   "execution_count": 117,
   "metadata": {},
   "outputs": [
    {
     "name": "stdout",
     "output_type": "stream",
     "text": [
      "['Capomulin' 'Ceftamin' 'Infubinol' 'Ramicane']\n",
      "IQR for Capomulin: 7.781863460000004\n",
      "Lower Bound for Capomulin: 20.70456164999999\n",
      "Upper Bound for Capomulin: 51.83201549\n",
      "Outliers for Capomulin: 0\n",
      "IQR for Ceftamin: 15.577752179999997\n",
      "Lower Bound for Ceftamin: 25.355449580000002\n",
      "Upper Bound for Ceftamin: 87.66645829999999\n",
      "Outliers for Ceftamin: 0\n",
      "IQR for Infubinol: 11.477135160000003\n",
      "Lower Bound for Infubinol: 36.83290494999999\n",
      "Upper Bound for Infubinol: 82.74144559000001\n",
      "Outliers for Infubinol: 1\n",
      "IQR for Ramicane: 9.098536719999998\n",
      "Lower Bound for Ramicane: 17.912664470000003\n",
      "Upper Bound for Ramicane: 54.30681135\n",
      "Outliers for Ramicane: 0\n"
     ]
    }
   ],
   "source": [
    "# Put treatments into a list for for loop (and later for plot labels)\n",
    "treatments = treatment_regimens[\"Drug Regimen\"].unique()\n",
    "print(treatments)\n",
    "\n",
    "# Create empty list to fill with tumor vol data (for plotting)\n",
    "tumor_vol_list = []\n",
    "tumor_count = 0\n",
    "\n",
    "for t in treatments:\n",
    "    drug_df = all_data.loc[all_data[\"Drug Regimen\"] == t]\n",
    "    last_tp = pd.DataFrame(drug_df.groupby(\"Mouse ID\").max()[\"Timepoint\"])\n",
    "    treatment_df = last_tp.merge(all_data, on=(\"Mouse ID\", \"Timepoint\"), how =\"left\")\n",
    "    tumor_vol_list.append(treatment_df[\"Tumor Volume (mm3)\"])\n",
    "        \n",
    "    tumor_vol = treatment_df[\"Tumor Volume (mm3)\"]\n",
    "    quartiles = tumor_vol.quantile([.25,.5,.75])\n",
    "    ir1 = quartiles[0.25]\n",
    "    ir3 = quartiles[0.75]\n",
    "    iqr = ir3 - ir1\n",
    "    print(f'IQR for {t}: {iqr}')\n",
    "\n",
    "    lower_bound = ir1 - (1.5*iqr)\n",
    "    upper_bound = ir3 + (1.5*iqr)\n",
    "    print(f'Lower Bound for {t}: {lower_bound}')\n",
    "    print(f'Upper Bound for {t}: {upper_bound}')\n",
    "    \n",
    "    if (tumor_vol.max()) >= upper_bound or (tumor_vol.min()) <= lower_bound:\n",
    "        tumor_count +=1\n",
    "    print(f'Outliers for {t}: {tumor_count}')\n",
    "    tumor_count = 0"
   ]
  },
  {
   "cell_type": "code",
   "execution_count": 118,
   "metadata": {},
   "outputs": [
    {
     "data": {
      "image/png": "[encoded data removed]",
      "text/plain": [
       "<Figure size 432x288 with 1 Axes>"
      ]
     },
     "metadata": {
      "needs_background": "light"
     },
     "output_type": "display_data"
    }
   ],
   "source": [
    "# Generate a box plot that shows the distrubution of the tumor volume for each treatment group\n",
    "# Put treatments into a list for for loop (and later for plot labels)\n",
    "\n",
    "flierprops = dict(marker = \"o\", markerfacecolor = \"r\", markersize = 10, markeredgecolor = \"black\")\n",
    "plt.boxplot(tumor_vol_list, flierprops=flierprops )\n",
    "plt.ylabel(\"Final Tumor Volume (mm3)\")\n",
    "plt.xlabel(\"Drug Regimen\")\n",
    "plt.xticks([1,2,3,4], [\"Capomulin\", \"Ceftamin\", \"Infubinol\", \"Ramicane\"])\n",
    "plt.show()\n"
   ]
  },
  {
   "cell_type": "markdown",
   "metadata": {},
   "source": [
    "## Line and Scatter Plots"
   ]
  },
  {
   "cell_type": "code",
   "execution_count": 165,
   "metadata": {},
   "outputs": [
    {
     "data": {
      "image/png": "[encoded data removed]",
      "text/plain": [
       "<Figure size 432x288 with 1 Axes>"
      ]
     },
     "metadata": {
      "needs_background": "light"
     },
     "output_type": "display_data"
    }
   ],
   "source": [
    "# Generate a line plot of tumor volume vs. time point for a single mouse treated with Capomulin\n",
    "capomulin_df = all_data.loc[(all_data[\"Drug Regimen\"] == \"Capomulin\") & (all_data[\"Mouse ID\"] == \"l509\") ]\n",
    "mouse_treated_capomulin_df = capomulin_df[[\"Timepoint\",\"Tumor Volume (mm3)\" ]]\n",
    "mouse_treated_capomulin_df = capomulin_df.set_index([\"Timepoint\"])\n",
    "timepoint = mouse_treated_capomulin_df.index.values\n",
    "tumor_vol =mouse_treated_capomulin_df.values\n",
    "\n",
    "#Final plot\n",
    "line_plot[\"Tumor Volume (mm3)\"].plot(color = \"b\")\n",
    "plt.title(\"Campomuline treatment of mouse l509\")\n",
    "plt.xlabel(\"Timepoint\")\n",
    "plt.ylabel(\"Tumor Volume (mm3)\")\n",
    "plt.show()"
   ]
  },
  {
   "cell_type": "code",
   "execution_count": 168,
   "metadata": {},
   "outputs": [
    {
     "data": {
      "image/png": "[encoded data removed]",
      "text/plain": [
       "<Figure size 432x288 with 1 Axes>"
      ]
     },
     "metadata": {
      "needs_background": "light"
     },
     "output_type": "display_data"
    }
   ],
   "source": [
    "# Generate a scatter plot of mouse weight vs. the average observed tumor volume for the entire Capomulin regimen\n",
    "new_capomulin_df = all_data.loc[(all_data[\"Drug Regimen\"] == \"Capomulin\")]\n",
    "group_capomulin_df = new_capomulin_df.groupby(\"Mouse ID\")\n",
    "\n",
    "#find and store avg tumor vol for each weight\n",
    "avg_tumor_vol = group_capomulin_df[(\"Tumor Volume (mm3)\")].mean()\n",
    "weight = group_capomulin_df[\"Weight (g)\"].mean()\n",
    "avg_capomulin_df = pd.DataFrame({\"Weight (g)\": weight,\n",
    "                            \"Tumor Volume (mm3)\": avg_tumor_vol})\n",
    "#graph build and display\n",
    "plt.scatter(weight, avg_tumor_vol)\n",
    "plt.xlabel(\"Weight (g)\")\n",
    "plt.ylabel(\"Tumor Volume (mm3)\")\n",
    "plt.show()"
   ]
  },
  {
   "cell_type": "markdown",
   "metadata": {},
   "source": [
    "## Correlation and Regression"
   ]
  },
  {
   "cell_type": "code",
   "execution_count": 182,
   "metadata": {},
   "outputs": [
    {
     "name": "stdout",
     "output_type": "stream",
     "text": [
      "The correlation between mouse weight and the average tumor volume is 0.84\n"
     ]
    },
    {
     "data": {
      "image/png": "[encoded data removed]",
      "text/plain": [
       "<Figure size 432x288 with 1 Axes>"
      ]
     },
     "metadata": {
      "needs_background": "light"
     },
     "output_type": "display_data"
    }
   ],
   "source": [
    "# Calculate the correlation coefficient and a linear regression model \n",
    "correlation = st.pearsonr (weight,avg_tumor_vol )\n",
    "print(f\"The correlation between mouse weight and the average tumor volume is {round(correlation[0],2)}\")\n",
    "\n",
    "## for mouse weight and average observed tumor volume for the entire Capomulin regimen\n",
    "scatter_plot = all_data.loc[(all_data[\"Drug Regimen\"] == \"Capomulin\")]\n",
    "scatter_plot_df = scatter_plot.groupby([\"Mouse ID\"]).mean()\n",
    "weight_scatter_plot = scatter_plot_df[\"Weight (g)\"]\n",
    "volume_scatter_plot = scatter_plot_df[\"Tumor Volume (mm3)\"]\n",
    "(slope, intercept, rvalue, pvalue, stderr) = st.linregress(weight, avg_tumor_vol)\n",
    "regress_values = weight_scatter_plot * slope + intercept\n",
    "line_eq = \"y = \" + str(round(slope,2)) + \"x + \" + str(round(intercept,2))\n",
    "#graph build and display\n",
    "plt.scatter(weight_scatter_plot,volume_scatter_plot )\n",
    "plt.plot(weight_scatter_plot,regress_values,\"r-\")\n",
    "plt.xlabel(\"Weight (g)\")\n",
    "plt.ylabel(\"Tumor Volume (mm3)\")\n",
    "plt.show()"
   ]
  },
  {
   "cell_type": "code",
   "execution_count": null,
   "metadata": {},
   "outputs": [],
   "source": []
  }
 ],
 "metadata": {
  "anaconda-cloud": {},
  "kernelspec": {
   "display_name": "Python 3",
   "language": "python",
   "name": "python3"
  },
  "language_info": {
   "codemirror_mode": {
    "name": "ipython",
    "version": 3
   },
   "file_extension": ".py",
   "mimetype": "text/x-python",
   "name": "python",
   "nbconvert_exporter": "python",
   "pygments_lexer": "ipython3",
   "version": "3.7.4"
  }
 },
 "nbformat": 4,
 "nbformat_minor": 4
}
